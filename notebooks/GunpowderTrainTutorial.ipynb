{
 "cells": [
  {
   "cell_type": "code",
   "execution_count": 1,
   "id": "8ff9047a",
   "metadata": {},
   "outputs": [
    {
     "name": "stderr",
     "output_type": "stream",
     "text": [
      "/home/S-EK/conda/envs/bs/lib/python3.12/site-packages/tqdm/auto.py:21: TqdmWarning: IProgress not found. Please update jupyter and ipywidgets. See https://ipywidgets.readthedocs.io/en/stable/user_install.html\n",
      "  from .autonotebook import tqdm as notebook_tqdm\n"
     ]
    }
   ],
   "source": [
    "import gunpowder as gp\n",
    "from funlib.persistence import open_ds #may need to change to ome later"
   ]
  },
  {
   "cell_type": "code",
   "execution_count": 2,
   "id": "5aa31aee",
   "metadata": {},
   "outputs": [],
   "source": [
    "# declare arrays to use in the pipeline\n",
    "raw = gp.ArrayKey('RAW')\n",
    "labels = gp.ArrayKey('LABELS')\n",
    "mask = gp.ArrayKey('MASK')\n",
    "gt_affs = gp.ArrayKey('GT_AFFS')\n",
    "gt_affs_mask = gp.ArrayKey('GT_AFFS_MASK')"
   ]
  },
  {
   "cell_type": "code",
   "execution_count": 3,
   "id": "e6ec14b6",
   "metadata": {},
   "outputs": [],
   "source": [
    "raw_array = open_ds(\"/mnt/efs/aimbl_2025/student_data/S-EK/EK_transfer/GT_movie1/crop_1.zarr/raw\")\n",
    "labels_array = open_ds(\"/mnt/efs/aimbl_2025/student_data/S-EK/EK_transfer/GT_movie1/crop_1.zarr/labels\")\n",
    "mask_array = open_ds(\"/mnt/efs/aimbl_2025/student_data/S-EK/EK_transfer/GT_movie1/crop_1.zarr/mask\")"
   ]
  },
  {
   "cell_type": "code",
   "execution_count": 4,
   "id": "ac4b6446",
   "metadata": {},
   "outputs": [
    {
     "name": "stdout",
     "output_type": "stream",
     "text": [
      "(1000, 170, 170)\n",
      "(1000, 170, 170)\n",
      "(1000, 170, 170)\n"
     ]
    }
   ],
   "source": [
    "print(raw_array.voxel_size)\n",
    "print(labels_array.voxel_size)\n",
    "print(mask_array.voxel_size)"
   ]
  },
  {
   "cell_type": "code",
   "execution_count": 5,
   "id": "4f710ea1",
   "metadata": {},
   "outputs": [],
   "source": [
    "# create \"pipeline\" consisting only of a data source\n",
    "source_raw = gp.ArraySource( key= raw, array= raw_array, interpolatable= True)\n",
    "source_labels = gp.ArraySource( key= labels, array= labels_array, interpolatable= False)\n",
    "source_mask = gp.ArraySource( key= mask, array= mask_array, interpolatable= False)"
   ]
  },
  {
   "cell_type": "code",
   "execution_count": 6,
   "id": "acdc8205",
   "metadata": {},
   "outputs": [],
   "source": [
    "random_location = gp.RandomLocation()"
   ]
  },
  {
   "cell_type": "code",
   "execution_count": null,
   "id": "1f9d1583",
   "metadata": {},
   "outputs": [],
   "source": [
    "train.gp.torch.Train()"
   ]
  },
  {
   "cell_type": "code",
   "execution_count": 7,
   "id": "f6e76b65",
   "metadata": {},
   "outputs": [],
   "source": [
    "snapshot = gp.Snapshot(\n",
    "    dataset_names={raw:\"raw\", labels:\"labels\", mask:\"mask\", gt_affs: \"affs\", gt_affs_mask: \"affS_mask\"},\n",
    "    dataset_dtypes={gt_affs: 'float32'}\n",
    ")"
   ]
  },
  {
   "cell_type": "code",
   "execution_count": 8,
   "id": "af4daeca",
   "metadata": {},
   "outputs": [],
   "source": [
    "normalization = gp.Normalize(array= raw)"
   ]
  },
  {
   "cell_type": "code",
   "execution_count": 9,
   "id": "e93a3837",
   "metadata": {},
   "outputs": [],
   "source": [
    "deform = gp.DeformAugment(\n",
    "    gp.Coordinate((5100, 5100)),\n",
    "    (340,340),\n",
    "    spatial_dims=2,\n",
    "    graph_raster_voxel_size=raw_array.voxel_size[1:]\n",
    ")"
   ]
  },
  {
   "cell_type": "code",
   "execution_count": 10,
   "id": "86f2a2b4",
   "metadata": {},
   "outputs": [],
   "source": [
    "neighborhood = [\n",
    "    (1, 0 ,0),\n",
    "    (0, 1, 0),\n",
    "    (0, 0, 1),\n",
    "    (2, 0, 0),\n",
    "    (0, 5, 0),\n",
    "    (0, 0, 5)\n",
    "]\n",
    "add_affs = gp.AddAffinities(\n",
    "    affinity_neighborhood=neighborhood,\n",
    "    labels=labels,\n",
    "    affinities=gt_affs,\n",
    "    unlabelled=mask,\n",
    "    affinities_mask=gt_affs_mask\n",
    ")"
   ]
  },
  {
   "cell_type": "code",
   "execution_count": 11,
   "id": "538e8b3c",
   "metadata": {},
   "outputs": [],
   "source": [
    "pipeline = (source_raw,source_labels,source_mask) + gp.MergeProvider() + random_location + normalization + gp.SimpleAugment(transpose_only=[1,2]) + deform + add_affs + snapshot "
   ]
  },
  {
   "cell_type": "code",
   "execution_count": null,
   "id": "f42d91fd",
   "metadata": {},
   "outputs": [
    {
     "data": {
      "text/plain": [
       "(16, 1492, 1492)"
      ]
     },
     "execution_count": 18,
     "metadata": {},
     "output_type": "execute_result"
    }
   ],
   "source": [
    "test_shape = raw_array.shape"
   ]
  },
  {
   "cell_type": "code",
   "execution_count": null,
   "id": "0ae15e9d",
   "metadata": {},
   "outputs": [],
   "source": [
    "# formulate a request for \"raw\"\n",
    "\n",
    "input_size = gp.Coordinate((7, 512, 512)) * raw_array.voxel_size\n",
    "output_size = gp.Coordinate((3, 256, 256)) * raw_array.voxel_size\n",
    "\n",
    "request = gp.BatchRequest()\n",
    "\n",
    "request.add(raw, input_size)\n",
    "request.add(labels, output_size)\n",
    "request.add(mask, output_size)\n",
    "request.add(gt_affs, output_size)\n",
    "request.add(gt_affs_mask, output_size)\n",
    "\n",
    "# request[raw] = gp.Roi((5000, 119000, 119000), (10000, 85000, 85000)) #always in world units\n",
    "# request[labels] = gp.Roi((5000, 119000, 119000), (10000, 85000, 85000)) #always in world units\n",
    "# request[mask] = gp.Roi((5000, 119000, 119000), (10000, 85000, 85000)) #always in world units\n",
    "# request[gt_affs] = gp.Roi((5000, 119000, 119000), (10000, 85000, 85000)) #always in world units\n",
    "# request[gt_affs_mask] = gp.Roi((5000, 119000, 119000), (10000, 85000, 85000)) #always in world units"
   ]
  },
  {
   "cell_type": "code",
   "execution_count": null,
   "id": "afafee75",
   "metadata": {},
   "outputs": [],
   "source": [
    "# build the pipeline...\n",
    "with gp.build(pipeline):\n",
    "  for i in range(1):\n",
    "    # ...and request a batch\n",
    "    print(i)\n",
    "    batch = pipeline.request_batch(request)\n"
   ]
  },
  {
   "cell_type": "code",
   "execution_count": 6,
   "id": "fd9fefff",
   "metadata": {},
   "outputs": [
    {
     "ename": "ImportError",
     "evalue": "attempted relative import with no known parent package",
     "output_type": "error",
     "traceback": [
      "\u001b[31m---------------------------------------------------------------------------\u001b[39m",
      "\u001b[31mImportError\u001b[39m                               Traceback (most recent call last)",
      "\u001b[36mCell\u001b[39m\u001b[36m \u001b[39m\u001b[32mIn[6]\u001b[39m\u001b[32m, line 1\u001b[39m\n\u001b[32m----> \u001b[39m\u001b[32m1\u001b[39m \u001b[38;5;28;01mfrom\u001b[39;00m\u001b[38;5;250m \u001b[39m\u001b[34;01m.\u001b[39;00m\u001b[34;01m.\u001b[39;00m\u001b[34;01msrc\u001b[39;00m\u001b[38;5;250m \u001b[39m\u001b[38;5;28;01mimport\u001b[39;00m train\n",
      "\u001b[31mImportError\u001b[39m: attempted relative import with no known parent package"
     ]
    }
   ],
   "source": [
    "from ..src import train"
   ]
  },
  {
   "cell_type": "code",
   "execution_count": null,
   "id": "7e502b78",
   "metadata": {},
   "outputs": [],
   "source": [
    "x = {'input':raw}"
   ]
  },
  {
   "cell_type": "code",
   "execution_count": null,
   "id": "b8216989",
   "metadata": {},
   "outputs": [],
   "source": [
    "raw_gp_array = x['input']\n",
    "torch_raw = "
   ]
  }
 ],
 "metadata": {
  "kernelspec": {
   "display_name": "bs",
   "language": "python",
   "name": "python3"
  },
  "language_info": {
   "codemirror_mode": {
    "name": "ipython",
    "version": 3
   },
   "file_extension": ".py",
   "mimetype": "text/x-python",
   "name": "python",
   "nbconvert_exporter": "python",
   "pygments_lexer": "ipython3",
   "version": "3.12.11"
  }
 },
 "nbformat": 4,
 "nbformat_minor": 5
}
